{
 "cells": [
  {
   "cell_type": "code",
   "execution_count": 1,
   "id": "757cb8f6",
   "metadata": {
    "tags": []
   },
   "outputs": [],
   "source": [
    "# !pip install -q sagemaker --upgrade"
   ]
  },
  {
   "cell_type": "code",
   "execution_count": 2,
   "id": "fff16936-2d1d-4828-b268-f31fe1953beb",
   "metadata": {
    "tags": []
   },
   "outputs": [
    {
     "name": "stdout",
     "output_type": "stream",
     "text": [
      "sagemaker.config INFO - Not applying SDK defaults from location: /etc/xdg/sagemaker/config.yaml\n",
      "sagemaker.config INFO - Not applying SDK defaults from location: /home/ec2-user/.config/sagemaker/config.yaml\n"
     ]
    }
   ],
   "source": [
    "import sagemaker\n",
    "from sagemaker.huggingface import HuggingFaceModel"
   ]
  },
  {
   "cell_type": "code",
   "execution_count": 3,
   "id": "fd09eead-ea19-49e9-8c3e-faf500dcc5af",
   "metadata": {
    "tags": []
   },
   "outputs": [
    {
     "name": "stdout",
     "output_type": "stream",
     "text": [
      "sagemaker.config INFO - Not applying SDK defaults from location: /etc/xdg/sagemaker/config.yaml\n",
      "sagemaker.config INFO - Not applying SDK defaults from location: /home/ec2-user/.config/sagemaker/config.yaml\n"
     ]
    }
   ],
   "source": [
    "role = sagemaker.get_execution_role()"
   ]
  },
  {
   "cell_type": "code",
   "execution_count": 4,
   "id": "742dd115-a70d-418d-ab9a-ba291cad1554",
   "metadata": {
    "tags": []
   },
   "outputs": [
    {
     "data": {
      "text/plain": [
       "'arn:aws:iam::195565468328:role/sm_jumpstart_flan_bot_endpoint_role'"
      ]
     },
     "execution_count": 4,
     "metadata": {},
     "output_type": "execute_result"
    }
   ],
   "source": [
    "role"
   ]
  },
  {
   "cell_type": "code",
   "execution_count": 5,
   "id": "564f84c1-e55f-4cf1-b557-3875a1bb2144",
   "metadata": {
    "tags": []
   },
   "outputs": [],
   "source": [
    "# Hub Model configuration. https://huggingface.co/models\n",
    "hub = {\n",
    "\t'HF_MODEL_ID':'google/flan-t5-large',\n",
    "\t'HF_TASK':'summarization'\n",
    "}"
   ]
  },
  {
   "cell_type": "code",
   "execution_count": 6,
   "id": "6046941b-ecdf-4187-a771-372950acdaa0",
   "metadata": {
    "tags": []
   },
   "outputs": [
    {
     "name": "stdout",
     "output_type": "stream",
     "text": [
      "sagemaker.config INFO - Not applying SDK defaults from location: /etc/xdg/sagemaker/config.yaml\n",
      "sagemaker.config INFO - Not applying SDK defaults from location: /home/ec2-user/.config/sagemaker/config.yaml\n",
      "sagemaker.config INFO - Not applying SDK defaults from location: /etc/xdg/sagemaker/config.yaml\n",
      "sagemaker.config INFO - Not applying SDK defaults from location: /home/ec2-user/.config/sagemaker/config.yaml\n"
     ]
    }
   ],
   "source": [
    "# create Hugging Face Model Class\n",
    "huggingface_model = HuggingFaceModel(\n",
    "                                     transformers_version='4.26.0',\n",
    "                                     pytorch_version='1.13.1',\n",
    "                                     py_version='py39',\n",
    "                                     env=hub,\n",
    "                                     role=role,\n",
    "                                    )"
   ]
  },
  {
   "cell_type": "code",
   "execution_count": 7,
   "id": "2fd3a24a",
   "metadata": {
    "tags": []
   },
   "outputs": [
    {
     "name": "stdout",
     "output_type": "stream",
     "text": [
      "--------!"
     ]
    }
   ],
   "source": [
    "# deploy model to SageMaker Inference\n",
    "predictor = huggingface_model.deploy(\n",
    "                                     initial_instance_count=1,  # number of instances\n",
    "                                     instance_type='ml.g5.2xlarge'  # ec2 instance type\n",
    "                                    )"
   ]
  },
  {
   "cell_type": "code",
   "execution_count": 8,
   "id": "896891ad",
   "metadata": {
    "tags": []
   },
   "outputs": [
    {
     "data": {
      "text/plain": [
       "[{'summary_text': 'The Eiffel Tower is the tallest free-standing structure in France'}]"
      ]
     },
     "execution_count": 8,
     "metadata": {},
     "output_type": "execute_result"
    }
   ],
   "source": [
    "predictor.predict({\n",
    "\t'inputs': \"The tower is 324 metres (1,063 ft) tall, about the same height as an 81-storey building, \\\n",
    "    and the tallest structure in Paris. Its base is square, measuring 125 metres (410 ft) on each side. \\\n",
    "    During its construction, the Eiffel Tower surpassed the Washington Monument to become the tallest \\\n",
    "    man-made structure in the world, a title it held for 41 years until the Chrysler Building in New York \\\n",
    "    City was finished in 1930. It was the first structure to reach a height of 300 metres. Due to the \\\n",
    "    addition of a broadcasting aerial at the top of the tower in 1957, it is now taller than the \\\n",
    "    Chrysler Building by 5.2 metres (17 ft). Excluding transmitters, the Eiffel Tower is the second \\\n",
    "    tallest free-standing structure in France after the Millau Viaduct.\"\n",
    "})"
   ]
  },
  {
   "cell_type": "markdown",
   "id": "eb5c0a31-639c-4f13-a9a9-09cbd61587e6",
   "metadata": {},
   "source": [
    "Example 1"
   ]
  },
  {
   "cell_type": "code",
   "execution_count": 9,
   "id": "3d882179",
   "metadata": {
    "tags": []
   },
   "outputs": [
    {
     "data": {
      "text/plain": [
       "[{'summary_text': 'To amend title 18, United States Code, to provide for the adjustment of status of certain Venezuelan'}]"
      ]
     },
     "execution_count": 9,
     "metadata": {},
     "output_type": "execute_result"
    }
   ],
   "source": [
    "predictor.predict({\n",
    "    'inputs': \"SECTION 1. SHORT TITLE.\\n\\n    This Act may be cited as the ``Venezuelan Refugee Assistance Act''.\\n\\nSEC. 2. ADJUSTMENT OF STATUS OF CERTAIN VENEZUELAN NATIONALS.\\n\\n    (a) Adjustment of Status.--\\n            (1) In general.--Notwithstanding section 245(c) of the \\n        Immigration and Nationality Act (8 U.S.C. 1255(c)), the status \\n        of any alien described in subsection (b) shall be adjusted by \\n        the Secretary of Homeland Security to that of an alien lawfully \\n        admitted for permanent residence, if the alien--\\n                    (A) applies for such adjustment before January 1, \\n                2019;\\n                    (B) is not inadmissible under paragraph (1), (2), \\n                (3), (4), (6)(E), (6)(G), (8), (10)(A), (10)(C), or \\n                (10)(D) of section 212(a) of the Immigration and \\n                Nationality Act (8 U.S.C. 1182(a));\\n                    (C) is not deportable under paragraph (1)(E), \\n                (1)(G), (2), (4), (5), or (6) of section 237(a) of such \\n                Act (8 U.S.C. 1227(a));\\n                    (D) has not ordered, incited, assisted, or \\n                otherwise participated in the persecution of any person \\n                on account of race, religion, nationality, membership \\n                in a particular social group, or political opinion; and\\n                    (E) has not been convicted of--\\n                            (i) any offense under Federal or State law \\n                        punishable by a maximum term of imprisonment of \\n                        more than 1 year; or\\n                            (ii) 3 or more offenses under Federal or \\n                        State law, for which the alien was convicted on \\n                        different dates for each of the 3 offenses and \\n                        sentenced to imprisonment for an aggregate of \\n                        90 days or more.\\n            (2) Relationship of application to certain orders.--An \\n        alien present in the United States who has been ordered \\n        removed, or ordered to depart voluntarily, from the United \\n        States under any provision of the Immigration and Nationality \\n        Act may, notwithstanding such order, apply for adjustment of \\n        status under paragraph (1). Such an alien may not be required, \\n        as a condition on submitting or granting such application, to \\n        file a motion to reopen, reconsider, or vacate such order. If \\n        the Secretary of Homeland Security grants the application, the \\n        Secretary of Homeland Security shall cancel the order. If the \\n        Secretary of Homeland Security renders a final administrative \\n        decision to deny the application, the order shall be effective \\n        and enforceable to the same extent as if the application had \\n        not been made.\\n    (b) Aliens Eligible for Adjustment of Status.--The benefits \\nprovided by subsection (a) shall apply to any alien who is a national \\nof Venezuela--\\n            (1) who was physically present in the United States on \\n        January 1, 2013; and\\n            (2) has been physically present in the United States for at \\n        least 1 year and is physically present in the United States on \\n        the date the application for adjustment of status under this \\n        Act is filed, except an alien shall not be considered to have \\n        failed to maintain continuous physical presence by reason of an \\n        absence, or absences, from the United States for any periods in \\n        the aggregate not exceeding 180 days.\\n    (c) Stay of Removal.--\\n            (1) In general.--The Secretary of Homeland Security shall \\n        provide by regulation for an alien subject to a final order of \\n        removal to seek a stay of such order based on the filing of an \\n        application under subsection (a).\\n            (2) During certain proceedings.--Notwithstanding any \\n        provision of the Immigration and Nationality Act (8 U.S.C. 1101 \\n        et seq.), the Secretary of Homeland Security shall not order \\n        any alien to be removed from the United States, if the alien is \\n        in removal proceedings under any provision of such Act and \\n        raises as a defense to such an order the eligibility of the \\n        alien to apply for adjustment of status under subsection (a), \\n        except where the Secretary of Homeland Security has rendered a \\n        final administrative determination to deny the application.\\n            (3) Work authorization.--The Secretary of Homeland Security \\n        may authorize an alien who has applied for adjustment of status \\n        under subsection (a) to engage in employment in the United \\n        States during the pendency of such application and may provide \\n        the alien with an ``employment authorized'' endorsement or \\n        other appropriate document signifying authorization of \\n        employment, except that if such application is pending for a \\n        period exceeding 180 days, and has not been denied, the \\n        Secretary of Homeland Security shall authorize such employment.\\n    (d) Adjustment of Status for Spouses and Children.--\\n            (1) In general.--Notwithstanding section 245(c) of the \\n        Immigration and Nationality Act (8 U.S.C. 1255(c)), the status \\n        of an alien shall be adjusted by the Secretary of Homeland \\n        Security to that of an alien lawfully admitted for permanent \\n        residence, if--\\n                    (A) the alien is the spouse, child, or unmarried \\n                son or daughter, of an alien whose status is adjusted \\n                to that of an alien lawfully admitted for permanent \\n                residence under subsection (a), except that in the case \\n                of such an unmarried son or daughter, the son or \\n                daughter shall be required to establish that they have \\n                been physically present in the United States for at \\n                least 1 year;\\n                    (B) the alien applies for such adjustment and is \\n                physically present in the United States on the date the \\n                application is filed; and\\n                    (C) the alien is otherwise eligible to receive an \\n                immigrant visa and is otherwise admissible to the \\n                United States for permanent residence, except in \\n                determining such admissibility the grounds for \\n                exclusion specified in paragraphs (4), (5), (6)(A), and \\n                (7)(A) of section 212(a) of the Immigration and \\n                Nationality Act (8 U.S.C. 1182(a)) shall not apply.\\n            (2) Proof of continuous presence.--For purposes of \\n        establishing the period of continuous physical presence \\n        referred to in paragraph (1)(B), an alien shall not be \\n        considered to have failed to maintain continuous physical \\n        presence by reason of an absence, or absences, from the United \\n        States for any periods in the aggregate not exceeding 180 days.\\n    (e) Availability of Administrative Review.--The Secretary of \\nHomeland Security shall provide to applicants for adjustment of status \\nunder subsection (a) the same right to, and procedures for, \\nadministrative review as are provided to--\\n            (1) applicants for adjustment of status under section 245 \\n        of the Immigration and Nationality Act (8 U.S.C. 1255); or\\n            (2) aliens subject to removal proceedings under section 240 \\n        of such Act (8 U.S.C. 1229a).\\n    (f) Limitation on Judicial Review.--A determination by the \\nSecretary of Homeland Security as to whether the status of any alien \\nshould be adjusted under this Act is final and shall not be subject to \\nreview by any court.\\n    (g) No Offset in Number of Visas Available.--When an alien is \\ngranted the status of having been lawfully admitted for permanent \\nresidence pursuant to this Act, the Secretary of State shall not be \\nrequired to reduce the number of immigrant visas authorized to be \\nissued under any provision of the Immigration and Nationality Act.\\n    (h) Application of Immigration and Nationality Act Provisions.--\\nExcept as otherwise specifically provided in this section, the \\ndefinitions contained in the Immigration and Nationality Act shall \\napply in the administration of this Act. Nothing contained in this Act \\nshall be held to repeal, amend, alter, modify, effect, or restrict the \\npowers, duties, functions, or authority of the Secretary of Homeland \\nSecurity in the administration and enforcement of such Act or any other \\nlaw relating to immigration, nationality, or naturalization. The fact \\nthat an alien may be eligible to be granted the status of having been \\nlawfully admitted for permanent residence under this section shall not \\npreclude the alien from seeking such status under any other provision \\nof law for which the alien may be eligible.\"\n",
    "})"
   ]
  },
  {
   "cell_type": "markdown",
   "id": "9830d765-a5c8-4bcd-8fc1-e93d4e310159",
   "metadata": {},
   "source": [
    "Example 2"
   ]
  },
  {
   "cell_type": "code",
   "execution_count": 10,
   "id": "5719817d-7d7f-4d7a-92cb-e54e55e665e1",
   "metadata": {
    "tags": []
   },
   "outputs": [
    {
     "data": {
      "text/plain": [
       "[{'summary_text': 'SECTION 1. SHORT TITLE. This Act may be cited as the'}]"
      ]
     },
     "execution_count": 10,
     "metadata": {},
     "output_type": "execute_result"
    }
   ],
   "source": [
    "predictor.predict({\n",
    "    'inputs': \"SECTION 1. SHORT TITLE.\\n\\n    This Act may be cited as the ``Education for Democracy Act''.\\n\\nSEC. 2. CIVIC EDUCATION.\\n\\n    Part F of title X of the Elementary and Secondary Education Act of \\n1965 (20 U.S.C. 8141 et seq.) is amended to read as follows:\\n\\n                       ``PART F--CIVIC EDUCATION\\n\\n``SEC. 10601. SHORT TITLE.\\n\\n    ``This part may be cited as the `Education for Democracy Act'.\\n\\n``SEC. 10602. FINDINGS.\\n\\n    ``The Congress finds that--\\n            ``(1) college freshmen surveyed in 1997 by the Higher \\n        Education Research Institute at the University of California at \\n        Los Angeles demonstrated higher levels of disengagement, both \\n        academically and politically, than any previous entering class \\n        of students;\\n            ``(2) college freshmen in 1997 demonstrated the lowest \\n        levels of political interest in the 20-year history of surveys \\n        conducted by the Higher Education Research Institute at the \\n        University of California at Los Angeles;\\n            ``(3) United States secondary school students expressed \\n        relatively low levels of interest in politics and economics in \\n        a 1999 Harris survey;\\n            ``(4) the 28th Annual Phi Delta Kappa/Gallup Poll in 1996 \\n        indicated that American citizens believe that the Nation's \\n        schools, apart from providing a basic education, had a very \\n        important role to play in preparing students to be responsible \\n        citizens;\\n            ``(5) Americans surveyed by the Organization of Economic \\n        Cooperation and Development indicated that only 59 percent had \\n        confidence that schools have a major effect on the development \\n        of good citizenship;\\n            ``(6) teachers too often do not have sufficient expertise \\n        in the subjects that they teach, and half of all secondary \\n        school history students in America are being taught by teachers \\n        with neither a major nor a minor in history;\\n            ``(7) secondary school students correctly answered less \\n        than half of the questions on a national test of economic \\n        knowledge in a 1999 Harris survey;\\n            ``(8) the most recent National Assessment of Educational \\n        Progress indicated that students have only superficial \\n        knowledge of, and lacked a depth of understanding regarding, \\n        civics;\\n            ``(9) civic and economic education are important not only \\n        to developing citizenship competencies in the United States but \\n        also are critical to supporting political stability and \\n        economic health in other democracies, particularly emerging \\n        democratic market economies;\\n            ``(10) international education exchange programs in civic \\n        and economic education have been shown to enhance both \\n        educational reform efforts in other democracies and educational \\n        quality in United States classrooms;\\n            ``(11) more than three quarters of Americans surveyed by \\n        the National Constitution Center in 1997 admitted that they \\n        knew only some or very little about the Constitution of the \\n        United States; and\\n            ``(12) the Constitution of the United States is too often \\n        viewed within the context of history and not as a living \\n        document that shapes current events.\\n\\n``SEC. 10603. PURPOSE.\\n\\n    ``It is the purpose of this part--\\n            ``(1) to improve the quality of civics and government \\n        education, and to enhance the attainment of the third and sixth \\n        National Education Goals, by educating students about the \\n        history and principles of the Constitution of the United \\n        States, including the Bill of Rights;\\n            ``(2) to foster civic competence and responsibility; and\\n            ``(3) to improve the quality of civic education and \\n        economic education through cooperative civic education and \\n        economic education exchange programs with other democratic \\n        nations.\\n\\n``SEC. 10604. GENERAL AUTHORITY.\\n\\n    ``(a) Grants and Contracts.--\\n            ``(1) In general.--The Secretary is authorized to award \\n        grants to or enter into contracts with--\\n                    ``(A) the Center for Civic Education to carry out \\n                civic education activities under sections 10605 and \\n                10606; and\\n                    ``(B) the National Council on Economic Education to \\n                carry out economic education activities under section \\n                10606.\\n            ``(2) Consultation.--The Secretary shall award the grants \\n        and contracts under section 10606 in consultation with the \\n        Secretary of State.\\n    ``(b) Distribution.--The Secretary shall use not more than 50 \\npercent of the amount appropriated under section 10607(b) for each \\nfiscal year to carry out economic education activities under section \\n10606.\\n\\n``SEC. 10605. WE THE PEOPLE PROGRAM.\\n\\n    ``(a) The Citizen and the Constitution.--\\n            ``(1) In general.--The Center for Civic Education shall use \\n        funds awarded under section 10604(a)(1)(A) to carry out The \\n        Citizen and the Constitution program in accordance with this \\n        subsection.\\n            ``(2) Educational activities.--The Citizen and the \\n        Constitution program--\\n                    ``(A) shall continue and expand the educational \\n                activities of the `We the People . . . The Citizen and \\n                the Constitution' program administered by the Center \\n                for Civic Education;\\n                    ``(B) shall enhance student attainment of \\n                challenging content standards in civics and government; \\n                and\\n                    ``(C) shall provide--\\n                            ``(i) a course of instruction on the basic \\n                        principles of our Nation's constitutional \\n                        democracy and the history of the Constitution \\n                        of the United States and the Bill of Rights;\\n                            ``(ii) at the request of a participating \\n                        school, school and community simulated \\n                        congressional hearings following the course of \\n                        study;\\n                            ``(iii) an annual national competition of \\n                        simulated congressional hearings for secondary \\n                        school students who wish to participate in such \\n                        a program;\\n                            ``(iv) advanced training of teachers about \\n                        the Constitution of the United States and the \\n                        political system the United States created;\\n                            ``(v) materials and methods of instruction, \\n                        including teacher training, that utilize the \\n                        latest advancements in educational technology; \\n                        and\\n                            ``(vi) civic education materials and \\n                        services to address specific problems such as \\n                        the prevention of school violence and the abuse \\n                        of drugs and alcohol.\\n            ``(3) Availability of program.--The education program \\n        authorized under this subsection shall be made available to \\n        public and private elementary schools and secondary schools, \\n        including Bureau funded schools, in the 435 congressional \\n        districts, and in the District of Columbia, the Commonwealth of \\n        Puerto Rico, the United States Virgin Islands, Guam, American \\n        Samoa, and the Commonwealth of the Northern Mariana Islands.\\n    ``(b) Project Citizen.--\\n            ``(1) In general.--The Center for Civic Education shall use \\n        funds awarded under section 10604(a)(1)(A) to carry out The \\n        Project Citizen program in accordance with this subsection.\\n            ``(2) Educational activities.--The Project Citizen \\n        program--\\n                    ``(A) shall continue and expand the educational \\n                activities of the `We the People . . . Project Citizen' \\n                program administered by the Center for Civic Education;\\n                    ``(B) shall enhance student attainment of \\n                challenging content standards in civics and government; \\n                and\\n                    ``(C) shall provide--\\n                            ``(i) a course of instruction at the middle \\n                        school level on the roles of State and local \\n                        governments in the Federal system established \\n                        by the Constitution of the United States;\\n                            ``(ii) optional school and community \\n                        simulated State legislative hearings;\\n                            ``(iii) an annual national showcase or \\n                        competition;\\n                            ``(iv) advanced training of teachers on the \\n                        roles of State and local governments in the \\n                        Federal system established by the Constitution \\n                        of the United States;\\n                            ``(v) materials and methods of instruction, \\n                        including teacher training, that utilize the \\n                        latest advancements in educational technology; \\n                        and\\n                            ``(vi) civic education materials and \\n                        services to address specific problems such as \\n                        the prevention of school violence and the abuse \\n                        of drugs and alcohol.\\n            ``(3) Availability of program.--The education program \\n        authorized under this subsection shall be made available to \\n        public and private middle schools, including Bureau funded \\n        schools, in the 50 States of the United States, the District of \\n        Columbia, the Commonwealth of Puerto Rico, the United States \\n        Virgin Islands, Guam, American Samoa, and the Commonwealth of \\n        the Northern Mariana Islands.\\n    ``(c) Definition of Bureau Funded School.--In this section the term \\n`Bureau funded school' has the meaning given the term in section 1146 \\nof the Education Amendments of 1978.\\n\\n``SEC. 10606. COOPERATIVE CIVIC EDUCATION AND ECONOMIC EDUCATION \\n              EXCHANGE PROGRAMS.\\n\\n    ``(a) Cooperative Education Exchange Programs.--The Center for \\nCivic Education and the National Council on Economic Education shall \\nuse funds awarded under section 10604(a)(1) to carry out Cooperative \\nEducation Exchange programs in accordance with this section.\\n    ``(b) Purpose.--The purpose of the Cooperative Education Exchange \\nprograms provided under this section shall be to--\\n            ``(1) make available to educators from eligible countries \\n        exemplary curriculum and teacher training programs in civics \\n        and government education, and economics education, developed in \\n        the United States;\\n            ``(2) assist eligible countries in the adaptation, \\n        implementation, and institutionalization of such programs;\\n            ``(3) create and implement civics and government education, \\n        and economic education, programs for students that draw upon \\n        the experiences of the participating eligible countries;\\n            ``(4) provide a means for the exchange of ideas and \\n        experiences in civics and government education, and economic \\n        education, among political, educational, governmental, and \\n        private sector leaders of participating eligible countries; and\\n            ``(5) provide support for--\\n                    ``(A) research and evaluation to determine the \\n                effects of educational programs on students' \\n                development of the knowledge, skills, and traits of \\n                character essential for the preservation and \\n                improvement of constitutional democracy; and\\n                    ``(B) effective participation in and the \\n                preservation and improvement of an efficient market \\n                economy.\\n    ``(c) Avoidance of Duplication.--The Secretary shall consult with \\nthe Secretary of State to ensure that--\\n            ``(1) activities under this section are not duplicative of \\n        other efforts in the eligible countries; and\\n            ``(2) partner institutions in the eligible countries are \\n        creditable.\\n    ``(d) Activities.--The Cooperative Education Exchange programs \\nshall--\\n            ``(1) provide eligible countries with--\\n                    ``(A) seminars on the basic principles of United \\n                States constitutional democracy and economics, \\n                including seminars on the major governmental and \\n                economic institutions and systems in the United States, \\n                and visits to such institutions;\\n                    ``(B) visits to school systems, institutions of \\n                higher education, and nonprofit organizations \\n                conducting exemplary programs in civics and government \\n                education, and economic education, in the United \\n                States;\\n                    ``(C) translations and adaptations regarding United \\n                States civic and government education, and economic \\n                education, curricular programs for students and \\n                teachers, and in the case of training programs for \\n                teachers translations and adaptations into forms useful \\n                in schools in eligible countries, and joint research \\n                projects in such areas;\\n                    ``(D) research and evaluation assistance to \\n                determine--\\n                            ``(i) the effects of the Cooperative \\n                        Education Exchange programs on students' \\n                        development of the knowledge, skills, and \\n                        traits of character essential for the \\n                        preservation and improvement of constitutional \\n                        democracy; and\\n                            ``(ii) effective participation in and the \\n                        preservation and improvement of an efficient \\n                        market economy;\\n            ``(2) provide United States participants with--\\n                    ``(A) seminars on the histories, economies, and \\n                systems of government of eligible countries;\\n                    ``(B) visits to school systems, institutions of \\n                higher education, and organizations conducting \\n                exemplary programs in civics and government education, \\n                and economic education, located in eligible countries;\\n                    ``(C) assistance from educators and scholars in \\n                eligible countries in the development of curricular \\n                materials on the history, government, and economy of \\n                such countries that are useful in United States \\n                classrooms;\\n                    ``(D) opportunities to provide onsite \\n                demonstrations of United States curricula and pedagogy \\n                for educational leaders in eligible countries; and\\n                    ``(E) research and evaluation assistance to \\n                determine--\\n                            ``(i) the effects of the Cooperative \\n                        Education Exchange programs on students' \\n                        development of the knowledge, skills, and \\n                        traits of character essential for the \\n                        preservation and improvement of constitutional \\n                        democracy; and\\n                            ``(ii) effective participation in and \\n                        improvement of an efficient market economy; and\\n            ``(3) assist participants from eligible countries and the \\n        United States to participate in international conferences on \\n        civics and government education, and economic education, for \\n        educational leaders, teacher trainers, scholars in related \\n        disciplines, and educational policymakers.\\n    ``(e) Participants.--The primary participants in the Cooperative \\nEducation Exchange programs assisted under this section shall be \\neducational leaders in the areas of civics and government education, \\nand economic education, including curriculum and teacher training \\nspecialists, scholars in relevant disciplines, and educational \\npolicymakers, and government and private sector leaders from the United \\nStates and eligible countries.\\n    ``(f) Definition.--For the purpose of this section, the term \\n`eligible country' means a Central European country, an Eastern \\nEuropean country, Lithuania, Latvia, Estonia, the independent states of \\nthe former Soviet Union as defined in section 3 of the FREEDOM Support \\nAct (22 U.S.C. 5801), and may include the Republic of Ireland, the \\nprovince of Northern Ireland in the United Kingdom, and any developing \\ncountry as defined in section 209(d) of the Education for the Deaf Act.\\n\\n``SEC. 10607. AUTHORIZATION OF APPROPRIATIONS.\\n\\n    ``(a) Section 10605.--There are authorized to be appropriated to \\ncarry out section 10605, $10,000,000 for fiscal year 2000 and such sums \\nas may be necessary for each of the fiscal years 2001 through 2004.\\n    ``(b) Section 10606.--There are authorized to be appropriated to \\ncarry out section 10606, $10,000,000 for fiscal year 2000 and such sums \\nas may be necessary for each of the fiscal years 2001 through 2004.''.\\n\\nSEC. 3. REPEAL.\\n\\n    Title VI of the Goals 2000: Educate America Act (20 U.S.C. 5951 et \\nseq.) is repealed.\"\n",
    "})"
   ]
  },
  {
   "cell_type": "markdown",
   "id": "4a52635e-96ff-4980-8b7e-466d6858b329",
   "metadata": {},
   "source": [
    "Example 3"
   ]
  },
  {
   "cell_type": "code",
   "execution_count": 11,
   "id": "83c4a907-e7d0-45e8-88b5-fd3452e0f9ed",
   "metadata": {
    "tags": []
   },
   "outputs": [
    {
     "data": {
      "text/plain": [
       "[{'summary_text': 'To amend title 10, United States Code, to provide for the redesign of the 1-cent coin of'}]"
      ]
     },
     "execution_count": 11,
     "metadata": {},
     "output_type": "execute_result"
    }
   ],
   "source": [
    "predictor.predict({\n",
    "    'inputs': \"SECTION 1. SHORT TITLE.\\n\\n    This Act may be cited as the ``Abraham Lincoln Bicentennial 1-Cent \\nCoin Redesign Act''.\\n\\nSEC. 2. FINDINGS.\\n\\n    The Congress finds as follows:\\n            (1) Abraham Lincoln, the 16th President, was one of the \\n        Nation's greatest leaders, demonstrating true courage during \\n        the Civil War, one of the greatest crises in the Nation's \\n        history.\\n            (2) Born of humble roots in Hardin County, Kentucky, on \\n        February 12, 1809, Abraham Lincoln rose to the Presidency \\n        through a combination of honesty, integrity, intelligence, and \\n        commitment to the United States.\\n            (3) With the belief that all men are created equal, Abraham \\n        Lincoln led the effort to free all slaves in the United States.\\n            (4) Abraham Lincoln had a generous heart, with malice \\n        toward none and with charity for all.\\n            (5) Abraham Lincoln gave the ultimate sacrifice for the \\n        country he loved, dying from an assassin's bullet on April 15, \\n        1865.\\n            (6) All Americans could benefit from studying the life of \\n        Abraham Lincoln, for Lincoln's life is a model for \\n        accomplishing the ``American dream'' through honesty, \\n        integrity, loyalty, and a lifetime of education.\\n            (7) The year 2009 will be the bicentennial anniversary of \\n        the birth of Abraham Lincoln.\\n            (8) Abraham Lincoln was born in Kentucky, grew to adulthood \\n        in Indiana, achieved fame in Illinois, and led the nation in \\n        Washington, D.C.\\n            (9) The so-called ``Lincoln cent'' was introduced in 1909 \\n        on the 100th anniversary of Lincoln's birth, making the obverse \\n        design the most enduring on the nation's coinage.\\n            (10) President Theodore Roosevelt was so impressed by the \\n        talent of Victor David Brenner that the sculptor was chosen to \\n        design the likeness of President Lincoln for the coin, adapting \\n        a design from a plaque Brenner had prepared earlier.\\n            (11) In the nearly 100 years of production of the ``Lincoln \\n        cent'', there have been only 2 designs on the reverse: the \\n        original, featuring 2 wheat-heads in memorial style enclosing \\n        mottoes, and the current representation of the Lincoln Memorial \\n        in Washington, D.C.\\n            (12) On the occasion of the bicentennial of President \\n        Lincoln's birth and the 100th anniversary of the production of \\n        the Lincoln cent, it is entirely fitting to issue a series of \\n        1-cent coins with designs on the reverse that are emblematic of \\n        the 4 major periods of President Lincoln's life.\\n\\nSEC. 3. REDESIGN OF LINCOLN CENT FOR 2009.\\n\\n    (a) In General.--During the year 2009, the Secretary of the \\nTreasury shall issue 1-cent coins in accordance with the following \\ndesign specifications:\\n            (1) Obverse.--The obverse of the 1-cent coin shall continue \\n        to bear the Victor David Brenner likeness of President Abraham \\n        Lincoln.\\n            (2) Reverse.--The reverse of the coins shall bear 4 \\n        different designs each representing a different aspect of the \\n        life of Abraham Lincoln, such as--\\n                    (A) his birth and early childhood in Kentucky;\\n                    (B) his formative years in Indiana;\\n                    (C) his professional life in Illinois; and\\n                    (D) his presidency, in Washington, D.C.\\n    (b) Issuance of Redesigned Lincoln Cents in 2009.--\\n            (1) Order.--The 1-cent coins to which this section applies \\n        shall be issued with 1 of the 4 designs referred to in \\n        subsection (a)(2) beginning at the start of each calendar \\n        quarter of 2009.\\n            (2) Number.--The Secretary shall prescribe, on the basis of \\n        such factors as the Secretary determines to be appropriate, the \\n        number of 1-cent coins that shall be issued with each of the \\n        designs selected for each calendar quarter of 2009.\\n    (c) Design Selection.--The designs for the coins specified in this \\nsection shall be chosen by the Secretary--\\n            (1) after consultation with the Abraham Lincoln \\n        Bicentennial Commission and the Commission of Fine Arts; and\\n            (2) after review by the Citizens Coinage Advisory \\n        Committee.\\n\\nSEC. 4. REDESIGN OF REVERSE OF 1-CENT COINS AFTER 2009.\\n\\n    The design on the reverse of the 1-cent coins issued after December \\n31, 2009, shall bear an image emblematic of President Lincoln's \\npreservation of the United States of America as a single and united \\ncountry.\\n\\nSEC. 5. NUMISMATIC PENNIES WITH THE SAME METALLIC CONTENT AS THE 1909 \\n              PENNY.\\n\\n    The Secretary of the Treasury shall issue 1-cent coins in 2009 with \\nthe exact metallic content as the 1-cent coin contained in 1909 in such \\nnumber as the Secretary determines to be appropriate for numismatic \\npurposes.\\n\\nSEC. 6. SENSE OF THE CONGRESS.\\n\\n     It is the sense of the Congress that the original Victor David \\nBrenner design for the 1-cent coin was a dramatic departure from \\nprevious American coinage that should be reproduced, using the original \\nform and relief of the likeness of Abraham Lincoln, on the 1-cent coins \\nissued in 2009.\"\n",
    "})"
   ]
  },
  {
   "cell_type": "markdown",
   "id": "429abfa2-f8e4-4a19-af44-66bc72f0d443",
   "metadata": {},
   "source": [
    "Example 4"
   ]
  },
  {
   "cell_type": "code",
   "execution_count": 12,
   "id": "68711604-d47d-4896-8050-0a7511577aa8",
   "metadata": {
    "tags": []
   },
   "outputs": [
    {
     "data": {
      "text/plain": [
       "[{'summary_text': 'SEC. 1. SHORT TITLE; TABLE OF CONTENTS. ('}]"
      ]
     },
     "execution_count": 12,
     "metadata": {},
     "output_type": "execute_result"
    }
   ],
   "source": [
    "predictor.predict({\n",
    "    'inputs': \"SECTION 1. SHORT TITLE; TABLE OF CONTENTS.\\n\\n    (a) Short Title.--This Act may be cited as the ``Secondary Metal \\nTheft Prevention Act of 2009''.\\n    (b) Table of Contents.--The table of contents for this Act is as \\nfollows:\\n\\nSec. 1. Short title; table of contents.\\nSec. 2. Findings.\\nSec. 3. Sense of the Congress.\\nSec. 4. Purposes.\\nSec. 5. Purchase transaction requirements.\\nSec. 6. Protection of personal information.\\nSec. 7. Enforcement by Federal Trade Commission.\\nSec. 8. Enforcement by State Attorneys General.\\nSec. 9. Civil penalty.\\nSec. 10. State and local law not preempted.\\nSec. 11. Definitions.\\nSec. 12. Effective date.\\n\\nSEC. 2. FINDINGS.\\n\\n    The Congress finds the following:\\n            (1) Since 2006, metal theft has been on the rise, largely \\n        due to a surge in the global demand for scrap metal and a \\n        historic increase in the price of metal commodities.\\n            (2) Theft of metal components is jeopardizing the integrity \\n        of critical infrastructure in the United States through theft \\n        of metal in transportation, electrical, and telecommunications \\n        networks.\\n            (3) Theft of manhole covers, storm water grates, highway \\n        guard rails, railroad tracks, automobile components, and street \\n        lamps pose a significant public safety risk.\\n            (4) Many State laws call on secondary metal recyclers to \\n        help deter this crime and assist law enforcement by documenting \\n        transactions and collecting information in order to identify \\n        the sellers of scrap metal and the material they are selling. \\n        These laws have been a significant deterrent to the problem of \\n        metal theft.\\n            (5) Although many States have enacted metal theft laws, \\n        metal theft is a nationwide crime that crosses state lines.\\n            (6) An overarching Federal law is necessary to deter metal \\n        theft across the country.\\n            (7) Combating the problem of metal theft will require \\n        improved communications between metal businesses and law \\n        enforcement agencies.\\n            (8) The secondary metal recycling industry should be \\n        commended for educating the public and law enforcement to the \\n        problems related to metal theft, issuing ``Do Not Buy'' lists, \\n        partnering with the National Crime Prevention Council, and \\n        creating a Theft Alert System.\\n\\nSEC. 3. SENSE OF THE CONGRESS.\\n\\n    It is the sense of the Congress that Federal, State, and local \\ngovernment agencies should work with representatives of the secondary \\nmetal recycling industry to develop and improve effective \\ncountermeasures to combat the theft and sale of stolen secondary metal.\\n\\nSEC. 4. PURPOSES.\\n\\n    The purposes of this Act are--\\n            (1) to protect consumers, businesses, critical \\n        infrastructure, and State and local governments from the \\n        problem of secondary metal theft;\\n            (2) to regulate interstate commerce by limiting trafficking \\n        in stolen secondary metal sold for the purpose of recycling or \\n        reuse;\\n            (3) to permit legitimate secondary metal transactions to \\n        continue to take place; and\\n            (4) to establish a system to document secondary metal \\n        transactions between sellers and buyers while addressing the \\n        growing problem of secondary metal theft.\\n\\nSEC. 5. PURCHASE TRANSACTION REQUIREMENTS.\\n\\n    (a) Do-not-buy List.--Unless the seller establishes by written \\ndocumentation that the seller is the owner, or an employee, agent, or \\nother person authorized to sell on behalf of the owner, it is unlawful \\nfor a secondary metal recycling agent to purchase for recycling any \\nsecondary metal that is--\\n            (1) marked with name, logo, or initials of a railroad, an \\n        electric, gas, or water company, a telephone company, cable \\n        company, or a public utility or that has been altered to \\n        remove, conceal, or obliterate such a name, logo, or initials \\n        through burning or cutting of wire sheathing or other means;\\n            (2) marked with the name of a city, county, or State \\n        government entity;\\n            (3) a street light pole or fixture;\\n            (4) a road or bridge guard rail;\\n            (5) a highway or street sign;\\n            (6) a water meter cover;\\n            (7) a storm water grate;\\n            (8) unused or undamaged building construction or utility \\n        material;\\n            (9) an historical marker;\\n            (10) a grave marker or cemetery urn or vase;\\n            (11) a utility access cover; or\\n            (12) a bulk container for beer with a capacity of 7.75 \\n        gallons or more.\\n    (b) Record Keeping.--\\n            (1) In general.--A secondary metal recycling agent shall \\n        maintain a written or electronic record of each secondary metal \\n        purchase. The record shall include--\\n                    (A) the agent's name and address;\\n                    (B) the date of the transaction;\\n                    (C) a description of the secondary metal purchased, \\n                including--\\n                            (i) a general physical description;\\n                            (ii) a product description, such as wire, \\n                        tubing, extrusions, casting, or other kind of \\n                        product; and\\n                            (iii) the weight, quantity, or volume \\n                        purchased;\\n                    (D) the amount paid by the agent;\\n                    (E) the name and address of the person to which the \\n                payment was made;\\n                    (F) the name of the person delivering the secondary \\n                metal to the agent, including a distinctive number from \\n                a Federal or State government-issued photo \\n                identification card and a description of the type of \\n                the identification; and\\n                    (G) the license tag number, State-of-issue, make, \\n                and model, if available, of the vehicle used to deliver \\n                the secondary metal to the agent.\\n            (2) Repeat sellers.--A secondary metal recycling agent may \\n        comply with the requirements of paragraph (1) with respect to \\n        the second or a subsequent purchase of secondary metal from the \\n        same person by--\\n                    (A) reference to the existing record relating to \\n                the seller; and\\n                    (B) recording any information for the transaction \\n                that is different from the existing record for that \\n                person.\\n            (3) Record retention period.--A secondary metal recycling \\n        agent shall maintain any record required by this subsection for \\n        not less than 2 years from the date of the transaction to which \\n        the record relates.\\n    (c) Purchases in Excess of $75.--\\n            (1) In general.--A secondary metal recycling agent may not \\n        pay cash for a single purchase of secondary metal in excess of \\n        $75. For purposes of this paragraph, more than 1 purchase in \\n        any 48-hour period from the same seller shall be considered to \\n        be a single purchase.\\n            (2) Payment method.--\\n                    (A) Occasional sellers.--Except as provided in \\n                subparagraph (B), for any purchase of secondary metal \\n                in excess of $75 a secondary metal recycling agent \\n                shall make payment by check that--\\n                            (i) is payable to the seller; and\\n                            (ii) includes the name and address of the \\n                        seller.\\n                    (B) Established commercial transactions.--A \\n                secondary metal recycling agent may make payments for \\n                purchases of secondary metal in excess of $75 from a \\n                governmental or commercial supplier of secondary metal \\n                with which the agent has an established commercial \\n                relationship by electronic funds transfer or other \\n                established commercial transaction payment method \\n                through a commercial bank if the agent maintains a \\n                written record of such payments that identifies the \\n                seller, the amount paid, and the date of the purchase.\\n    (d) Public Notice Requirement.--A secondary metal recycling agent \\nshall display, at its principal place of business and at any site at \\nwhich secondary metal is accepted by or for the agent, a printed notice \\nadvising the public that the sale of stolen secondary metal is \\nprohibited under Federal and State laws.\\n\\nSEC. 6. PROTECTION OF PERSONAL INFORMATION.\\n\\n    (a) In General.--A secondary metal recycling agent or the agent, \\nemployee, or representative of a secondary metal recycling agent may \\nnot disclose the identity of any person from which the agent purchases \\nsecondary metal without the consent of the seller except in response to \\na request from a law enforcement agency or judicial process.\\n    (b) Safeguards.--A secondary metal recycling agent shall implement \\nreasonable safeguards--\\n            (1) to protect the security of information required under \\n        section 5(b)(1) maintained by that agent; and\\n            (2) to prevent unauthorized access to or disclosure of that \\n        information.\\n    (c) Limits on Liability.--A secondary metal recycling agency shall \\nnot be liable to any seller for a disclosure of information required \\nunder section 5(b)(1) if the secondary metal recycling agent has met \\nthe requirements of subsection (b) of this section.\\n\\nSEC. 7. ENFORCEMENT BY FEDERAL TRADE COMMISSION.\\n\\n    (a) In General.--Violation of any provision of this Act shall be \\ntreated as a violation of a rule under section 18 of the Federal Trade \\nCommission Act (15 U.S.C. 57a) regarding unfair or deceptive acts or \\npractices. The Federal Trade Commission shall enforce this Act in the \\nsame manner, by the same means, and with the same jurisdiction, powers, \\nand duties as though all applicable terms and provisions of the Federal \\nTrade Commission Act (15 U.S.C. 41 et seq.) were incorporated into and \\nmade a part of this Act.\\n    (b) Regulations.--\\n            (1) In general.--The Commission may promulgate such \\n        regulations as it finds necessary or appropriate under this \\n        Act.\\n            (2) Initial guidance.--Within 6 months after the date of \\n        enactment of this Act, the Commission shall promulgate a final \\n        rule--\\n                    (A) setting forth the minimum requirements for the \\n                documentation required by section 5(a);\\n                    (B) establishing criteria for record retention \\n                under section 5(b)(3);\\n                    (C) establishing requirements for treatment of a \\n                seller as a governmental or commercial supplier with an \\n                established commercial relationship under section \\n                5(c)(2)(B);\\n                    (D) establishing public notice requirements under \\n                section 5(d); and\\n                    (E) establishing criteria for safeguards under \\n                section 6(b).\\n\\nSEC. 8. ENFORCEMENT BY STATE ATTORNEYS GENERAL.\\n\\n    (a) In General.--A State, as parens patriae, may bring a civil \\naction on behalf of its residents in an appropriate district court of \\nthe United States to enforce the provisions of this Act whenever the \\nattorney general of the State has reason to believe that the interests \\nof the residents of the State have been or are being threatened or \\nadversely affected by the violation of this Act or a regulation under \\nthis Act by a secondary metal recycling agent doing business in that \\nState.\\n    (b) Notice.--\\n            (1) Notice required.--At least 30 days before filing an \\n        action under subsection (a), the attorney general of the State \\n        involved shall provide to the Federal Trade Commission--\\n                    (A) written notice of the action; and\\n                    (B) a copy of the complaint for the action.\\n            (2) Authorization to proceed.--The State may bring the \\n        action if it does not receive a request from the Federal Trade \\n        Commission, within 30 days after the Commission receives the \\n        notice, not to proceed with its action.\\n    (c) Federal Proceedings.--After receiving notice under subsection \\n(b), the Commission may--\\n            (1) request that the State not proceed with the action \\n        pending the final disposition of a pending Federal proceeding \\n        or action;\\n            (2) initiate an action in the appropriate United States \\n        district court and move to consolidate all pending actions, \\n        including State actions, in such court;\\n            (3) intervene in the action brought under subsection (a); \\n        or\\n            (4) file petitions for appeal of a decision in such action.\\n    (c) Pending Federal Proceedings.--If the Federal Trade Commission \\nhas instituted an enforcement action against a secondary metal \\nrecycling agent for a violation of this Act or any regulation under \\nthis Act, a State may not bring an action, during the pendency of the \\nCommission's enforcement action, under this section against that \\nsecondary metal recycling agent for any violation alleged in the \\nCommission's enforcement action.\\n    (d) Construction.--For purposes of bringing any civil action under \\nsubsection (a), nothing in this section regarding notification shall be \\nconstrued to prevent the attorney general of a State from exercising \\nthe powers conferred on such attorney general by the laws of that State \\nto--\\n            (1) conduct investigations;\\n            (2) administer oaths or affirmations; or\\n            (3) compel the attendance of witnesses or the production of \\n        documentary and other evidence.\\n    (e) Venue; Service of Process.--\\n            (1) Venue.--Any action brought under subsection (a) may be \\n        brought in--\\n                    (A) the district court of the United States that \\n                meets applicable requirements relating to venue under \\n                section 1391 of title 28, United States Code; or\\n                    (B) another court of competent jurisdiction.\\n            (2) Service of process.--In an action brought under \\n        subsection (a), process may be served in any district in which \\n        the defendant--\\n                    (A) is an inhabitant; or\\n                    (B) may be found.\\n\\nSEC. 9. CIVIL PENALTY.\\n\\n    The knowing violation of any provision of this Act is punishable by \\na civil penalty of not to exceed $10,000.\\n\\nSEC. 10. STATE AND LOCAL LAW NOT PREEMPTED.\\n\\n    Nothing in this Act preempts any State or local law regulating the \\nsale or purchase of secondary metal.\\n\\nSEC. 11. DEFINITIONS.\\n\\n    In this Act:\\n            (1) Secondary metal.--The term ``secondary metal'' means--\\n                    (A) wire or cable commonly used by communications \\n                and electrical utilities; and\\n                    (B) copper, aluminum, or other metal (including any \\n                metal combined with other materials) that is valuable \\n                for recycling or reuse as raw metal.\\n            (2) Secondary metal recycling agent.--The term ``secondary \\n        metal recycling agent'' means any person engaged in the \\n        business of purchasing secondary metal for reuse or recycling, \\n        without regard to whether that person is engaged in the \\n        business of recycling or otherwise processing the purchased \\n        secondary metal for reuse.\\n\\nSEC. 12. EFFECTIVE DATE.\\n\\n    Except as required by section 7(b)(2), this Act shall take effect 6 \\nmonths after the date of enactment.\"\n",
    "})"
   ]
  },
  {
   "cell_type": "markdown",
   "id": "73826a82-1949-4f61-8666-6840e4fd80b0",
   "metadata": {},
   "source": [
    "Example 5"
   ]
  },
  {
   "cell_type": "code",
   "execution_count": 13,
   "id": "aacbf348-ccf5-49f4-b326-53e62b933aa1",
   "metadata": {
    "tags": []
   },
   "outputs": [
    {
     "data": {
      "text/plain": [
       "[{'summary_text': 'SECTION 1. SHORT TITLE. This Act may be cited as the'}]"
      ]
     },
     "execution_count": 13,
     "metadata": {},
     "output_type": "execute_result"
    }
   ],
   "source": [
    "predictor.predict({\n",
    "    'inputs': \"SECTION 1. SHORT TITLE.\\n\\n    This Act may be cited as the ``Civil Rights Act of 1964 \\nCommemorative Coin Act''.\\n\\nSEC. 2. FINDINGS.\\n\\n    Congress finds that--\\n            (1) on December 1, 1955, Rosa Parks' brave act of defiance, \\n        refusing to give up her seat to a white person on a segregated \\n        bus in Montgomery, Alabama, galvanized the modern civil rights \\n        movement and led to the desegregation of the South;\\n            (2) on February 1, 1960, 4 college students, Joseph McNeil, \\n        Franklin McCain, David Richmond, and Ezell Blair, Jr., asked to \\n        be served at a lunch counter in Greensboro, North Carolina, and \\n        lunch counter sit-ins began to occur throughout the South to \\n        challenge segregation in places of public accommodation;\\n            (3) on May 4, 1961, the Freedom Rides into the South began \\n        to test new court orders barring segregation in interstate \\n        transportation, and riders were jailed and beaten by mobs in \\n        several places, including Birmingham and Montgomery, Alabama;\\n            (4) Dr. Martin Luther King, Jr., was the leading civil \\n        rights advocate of the time, spearheading the civil rights \\n        movement in the United States during the 1950s and 1960s with \\n        the goal of nonviolent social change and full civil rights for \\n        African Americans;\\n            (5) on August 28, 1963, Dr. Martin Luther King, Jr., led \\n        over 250,000 civil rights supporters in the March on Washington \\n        and delivered his famous ``I Have A Dream'' speech to raise \\n        awareness and support for civil rights legislation;\\n            (6) Mrs. Coretta Scott King, a leading participant in the \\n        American civil rights movement, was side-by-side with her \\n        husband, Dr. Martin Luther King, Jr., during many civil rights \\n        marches, organized Freedom Concerts to draw attention to the \\n        Movement, and worked in her own right to create an America in \\n        which all people have equal rights;\\n            (7) the mass movement sparked by Rosa Parks and led by Dr. \\n        Martin Luther King, Jr., among others, called upon the Congress \\n        and Presidents John F. Kennedy and Lyndon B. Johnson to pass \\n        civil rights legislation which culminated in the enactment of \\n        the Civil Rights Act of 1964;\\n            (8) the Civil Rights Act of 1964 greatly expanded civil \\n        rights protections, outlawing racial discrimination and \\n        segregation in public places and places of public \\n        accommodation, in federally funded programs and employment and \\n        encouraging desegregation in public schools, and has served as \\n        a model for subsequent anti-discrimination laws;\\n            (9) we are an eminently better Nation because of Rosa \\n        Parks, Dr. Martin Luther King, Jr., and all those men and women \\n        who have confronted, and continue to confront, injustice and \\n        inequality wherever they see it;\\n            (10) equality in education was one of the cornerstones of \\n        the civil rights movement;\\n            (11) on September 10, 1961, Dr. Martin Luther King, Jr., \\n        wrote that African American ``students are coming to understand \\n        that education and learning have become tools for shaping the \\n        future and not devices of privilege for an exclusive few'';\\n            (12) over its long and distinguished history, the United \\n        Negro College Fund has provided scholarships and operating \\n        funds to its member colleges that have enabled more than \\n        300,000 young African Americans to earn college degrees and \\n        become successful members of society;\\n            (13) those graduates include Dr. Martin Luther King, Jr., \\n        as well as leaders in the fields of education, science, \\n        medicine, law, entertainment, literature, the military, and \\n        politics who have made major contributions to the civil rights \\n        movement and the creation of a more equitable society;\\n            (14) Congress has an obligation to lead America's continued \\n        struggle to fight discrimination and ensure equal rights for \\n        all; and\\n            (15) the year 2014 will mark the semicentennial of the \\n        passage of the Civil Rights Act of 1964.\\n\\nSEC. 3. COIN SPECIFICATIONS.\\n\\n    (a) Denominations.--The Secretary of the Treasury (in this Act \\nreferred to as the ``Secretary'') shall mint and issue not more than \\n350,000 $1 coins, each of which shall--\\n            (1) weigh 26.73 grams;\\n            (2) have a diameter of 1.500 inches; and\\n            (3) contain 90 percent silver and 10 percent copper.\\n    (b) Legal Tender.--The coins minted under this Act shall be legal \\ntender, as provided in section 5103 of title 31, United States Code.\\n    (c) Numismatic Items.--For purposes of section 5136 of title 31, \\nUnited States Code, all coins minted under this Act shall be considered \\nto be numismatic items.\\n\\nSEC. 4. DESIGN OF COINS.\\n\\n    (a) Design Requirements.--The design of the coins minted under this \\nAct shall be emblematic of the enactment of the Civil Rights Act of \\n1964 and its contribution to civil rights in America.\\n    (b) Designation and Inscriptions.--On each coin minted under this \\nAct there shall be--\\n            (1) a designation of the value of the coin;\\n            (2) an inscription of the year ``2014''; and\\n            (3) inscriptions of the words ``Liberty'', ``In God We \\n        Trust'', ``United States of America'', and ``E Pluribus Unum''.\\n    (c) Selection.--The design for the coins minted under this Act \\nshall be--\\n            (1) selected by the Secretary after consultation with the \\n        Commission of Fine Arts; and\\n            (2) reviewed by the Citizens Coinage Advisory Committee \\n        established under section 5135 of title 31, United States Code.\\n\\nSEC. 5. ISSUANCE OF COINS.\\n\\n    (a) Quality of Coins.--Coins minted under this Act shall be issued \\nin uncirculated and proof qualities.\\n    (b) Commencement of Issuance.--The Secretary may issue coins minted \\nunder this Act beginning January 1, 2014, except that the Secretary may \\ninitiate sales of such coins, without issuance, before such date.\\n    (c) Termination of Minting Authority.--No coins shall be minted \\nunder this Act after December 31, 2014.\\n\\nSEC. 6. SALE OF COINS.\\n\\n    (a) Sale Price.--Notwithstanding any other provision of law, the \\ncoins issued under this Act shall be sold by the Secretary at a price \\nequal to the sum of the face value of the coins, the surcharge required \\nunder section 7(a) for the coins, and the cost of designing and issuing \\nsuch coins (including labor, materials, dies, use of machinery, \\noverhead expenses, and marketing).\\n    (b) Bulk Sales.--The Secretary shall make bulk sales of the coins \\nissued under this Act at a reasonable discount.\\n    (c) Prepaid Orders at a Discount.--\\n            (1) In general.--The Secretary shall accept prepaid orders \\n        for the coins minted under this Act before the issuance of such \\n        coins.\\n            (2) Discount.--Sale prices with respect to prepaid orders \\n        under paragraph (1) shall be at a reasonable discount.\\n\\nSEC. 7. SURCHARGES.\\n\\n    (a) Surcharge Required.--All sales shall include a surcharge of $10 \\nper coin.\\n    (b) Distribution.--Subject to section 5134(f) of title 31, United \\nStates Code, all surcharges which are received by the Secretary from \\nthe sale of coins issued under this Act shall be promptly paid by the \\nSecretary to the United Negro College Fund (UNCF) to carry out the \\npurposes of the Fund, including providing scholarships and internships \\nfor minority students and operating funds and technology enhancement \\nservices for 39 member historically black colleges and universities.\\n    (c) Audits.--The United Negro College Fund shall be subject to the \\naudit requirements of section 5134(f)(2) of title 31, United States \\nCode, with regard to the amounts received by the Fund under subsection \\n(b).\"\n",
    "})"
   ]
  },
  {
   "cell_type": "markdown",
   "id": "87d2fdc6-7609-4d5e-9dc9-2b24472ea592",
   "metadata": {},
   "source": [
    "Delete the endpoint"
   ]
  },
  {
   "cell_type": "code",
   "execution_count": 14,
   "id": "ff71b5a3",
   "metadata": {
    "tags": []
   },
   "outputs": [],
   "source": [
    "predictor.delete_endpoint()"
   ]
  },
  {
   "cell_type": "code",
   "execution_count": null,
   "id": "1849c0b4",
   "metadata": {},
   "outputs": [],
   "source": []
  }
 ],
 "metadata": {
  "kernelspec": {
   "display_name": "conda_python3",
   "language": "python",
   "name": "conda_python3"
  },
  "language_info": {
   "codemirror_mode": {
    "name": "ipython",
    "version": 3
   },
   "file_extension": ".py",
   "mimetype": "text/x-python",
   "name": "python",
   "nbconvert_exporter": "python",
   "pygments_lexer": "ipython3",
   "version": "3.10.12"
  }
 },
 "nbformat": 4,
 "nbformat_minor": 5
}
