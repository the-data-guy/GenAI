{
  "cells": [
    {
      "cell_type": "markdown",
      "metadata": {},
      "source": [
        "References: \n",
        "\n",
        "- https://www.youtube.com/watch?v=xT6JpDELKPg&list=WL&index=13\n",
        "\n",
        "- https://docs.llamaindex.ai/en/latest/examples/query_engine/sec_tables/tesla_10q_table.html"
      ]
    },
    {
      "cell_type": "code",
      "execution_count": 1,
      "metadata": {
        "id": "x--Ooo6N611j"
      },
      "outputs": [],
      "source": [
        "# !pip install llama-index llama-hub unstructured pypdf --upgrade"
      ]
    },
    {
      "cell_type": "markdown",
      "metadata": {
        "id": "-rgNa4raBP91"
      },
      "source": [
        "### Extract Elements"
      ]
    },
    {
      "cell_type": "code",
      "execution_count": 2,
      "metadata": {
        "id": "_lIcAz6sAEnI"
      },
      "outputs": [],
      "source": [
        "# from pydantic import BaseModel\n",
        "from unstructured.partition.html import partition_html\n",
        "import pandas as pd"
      ]
    },
    {
      "cell_type": "markdown",
      "metadata": {},
      "source": [
        "Load document from url and save locally"
      ]
    },
    {
      "cell_type": "code",
      "execution_count": 3,
      "metadata": {
        "colab": {
          "base_uri": "https://localhost:8080/"
        },
        "id": "wf5G_ne_AG-Z",
        "outputId": "cd62ceb9-bc78-487b-bcf6-a3ee45bb70cf"
      },
      "outputs": [
        {
          "name": "stdout",
          "output_type": "stream",
          "text": [
            "--2023-11-12 19:07:12--  https://www.dropbox.com/scl/fi/mlaymdy1ni1ovyeykhhuk/tesla_2021_10k.htm?rlkey=qf9k4zn0ejrbm716j0gg7r802&dl=1\n",
            "Resolving www.dropbox.com (www.dropbox.com)... 162.125.13.18, 2620:100:6016:18::a27d:112\n",
            "Connecting to www.dropbox.com (www.dropbox.com)|162.125.13.18|:443... connected.\n",
            "HTTP request sent, awaiting response... 302 Found\n",
            "Location: https://uce770ca79abe82c2400b7bbfa05.dl.dropboxusercontent.com/cd/0/inline/CHZi8cFpSXXAeJ50DZ6BNupY3aPw13W1kXgLaabIKmKrMsENMqqvHuaI8xdLW6PsE2sArQQ87QD1IsJuMiD2uEsQWl338VfWjF93ZKZq3dikjW3jhfjt-2xrBbvqCarvqTo/file?dl=1# [following]\n",
            "--2023-11-12 19:07:13--  https://uce770ca79abe82c2400b7bbfa05.dl.dropboxusercontent.com/cd/0/inline/CHZi8cFpSXXAeJ50DZ6BNupY3aPw13W1kXgLaabIKmKrMsENMqqvHuaI8xdLW6PsE2sArQQ87QD1IsJuMiD2uEsQWl338VfWjF93ZKZq3dikjW3jhfjt-2xrBbvqCarvqTo/file?dl=1\n",
            "Resolving uce770ca79abe82c2400b7bbfa05.dl.dropboxusercontent.com (uce770ca79abe82c2400b7bbfa05.dl.dropboxusercontent.com)... 162.125.1.15, 2620:100:6016:15::a27d:10f\n",
            "Connecting to uce770ca79abe82c2400b7bbfa05.dl.dropboxusercontent.com (uce770ca79abe82c2400b7bbfa05.dl.dropboxusercontent.com)|162.125.1.15|:443... connected.\n",
            "HTTP request sent, awaiting response... 200 OK\n",
            "Length: 7898923 (7.5M) [application/binary]\n",
            "Saving to: ‘tesla_2021_10k.htm’\n",
            "\n",
            "tesla_2021_10k.htm  100%[===================>]   7.53M  --.-KB/s    in 0.07s   \n",
            "\n",
            "2023-11-12 19:07:13 (101 MB/s) - ‘tesla_2021_10k.htm’ saved [7898923/7898923]\n",
            "\n"
          ]
        }
      ],
      "source": [
        "!wget \"https://www.dropbox.com/scl/fi/mlaymdy1ni1ovyeykhhuk/tesla_2021_10k.htm?rlkey=qf9k4zn0ejrbm716j0gg7r802&dl=1\" -O tesla_2021_10k.htm"
      ]
    },
    {
      "cell_type": "markdown",
      "metadata": {},
      "source": [
        "Load from local machine"
      ]
    },
    {
      "cell_type": "code",
      "execution_count": 5,
      "metadata": {
        "id": "HcMNphK_7pqw"
      },
      "outputs": [],
      "source": [
        "from llama_index.readers.file.flat_reader import FlatReader\n",
        "from pathlib import Path"
      ]
    },
    {
      "cell_type": "code",
      "execution_count": 6,
      "metadata": {
        "id": "QhkoN2ayAH7F"
      },
      "outputs": [],
      "source": [
        "reader = FlatReader()\n",
        "docs_2021 = reader.load_data(Path(\"tesla_2021_10k.htm\"))"
      ]
    },
    {
      "cell_type": "code",
      "execution_count": 7,
      "metadata": {
        "id": "omfHCg8IAJ6c"
      },
      "outputs": [],
      "source": [
        "from llama_index.node_parser import (\n",
        "                                     UnstructuredElementNodeParser,\n",
        "                                    )\n",
        "\n",
        "node_parser = UnstructuredElementNodeParser()"
      ]
    },
    {
      "cell_type": "code",
      "execution_count": 10,
      "metadata": {
        "colab": {
          "base_uri": "https://localhost:8080/"
        },
        "id": "d3wJNKUu_daD",
        "outputId": "3d5678d8-4deb-4671-99c6-a01ea72f6f0c"
      },
      "outputs": [
        {
          "name": "stdout",
          "output_type": "stream",
          "text": [
            "Collecting python-dotenv\n",
            "  Downloading python_dotenv-1.0.0-py3-none-any.whl (19 kB)\n",
            "Installing collected packages: python-dotenv\n",
            "Successfully installed python-dotenv-1.0.0\n"
          ]
        }
      ],
      "source": [
        "# !pip install python-dotenv"
      ]
    },
    {
      "cell_type": "code",
      "execution_count": 11,
      "metadata": {
        "colab": {
          "base_uri": "https://localhost:8080/"
        },
        "id": "NGwFBTqh8lrW",
        "outputId": "99371898-b320-4d0c-ac3a-c314bb2bdbd9"
      },
      "outputs": [
        {
          "data": {
            "text/plain": [
              "True"
            ]
          },
          "execution_count": 11,
          "metadata": {},
          "output_type": "execute_result"
        }
      ],
      "source": [
        "from dotenv import load_dotenv\n",
        "load_dotenv(\"keys.env\")  # should be in the same directory path as this notebook; env file needs to have key to use LLM API (OpenAI in this case)"
      ]
    },
    {
      "cell_type": "code",
      "execution_count": 12,
      "metadata": {
        "colab": {
          "base_uri": "https://localhost:8080/"
        },
        "id": "B43MNRgSAK4F",
        "outputId": "33e16cfd-dbf6-444e-cce0-1d097315ab72"
      },
      "outputs": [
        {
          "name": "stderr",
          "output_type": "stream",
          "text": [
            "100%|██████████| 105/105 [10:45<00:00,  6.15s/it]\n"
          ]
        }
      ],
      "source": [
        "import os\n",
        "import pickle\n",
        "\n",
        "os.environ[\"OPENAI_API_KEY\"] = os.getenv(\"OPENAI_API_KEY\")\n",
        "\n",
        "# Extract nodes based on content/layout (e.g. text vs. tables) in the document. Note: This takes a few minutes to run.\n",
        "if not os.path.exists(\"2021_nodes.pkl\"):  # if not there already \n",
        "    raw_nodes_2021 = node_parser.get_nodes_from_documents(docs_2021)  # extract nodes; is done through LLM, under the hood\n",
        "    pickle.dump(raw_nodes_2021, open(\"2021_nodes.pkl\", \"wb\"))  # save locally\n",
        "else:  # Load from local file, if nodes have been already extracted\n",
        "    raw_nodes_2021 = pickle.load(open(\"2021_nodes.pkl\", \"rb\"))"
      ]
    },
    {
      "cell_type": "code",
      "execution_count": 13,
      "metadata": {
        "id": "LQclEz8TAnsc"
      },
      "outputs": [],
      "source": [
        "# Build hierarchy of nodes, on the basis of the doc layout (as understood by the LLM model)\n",
        "base_nodes_2021, node_mappings_2021 = node_parser.get_base_nodes_and_mappings(\n",
        "                                                                              raw_nodes_2021\n",
        "                                                                             )"
      ]
    },
    {
      "cell_type": "markdown",
      "metadata": {},
      "source": [
        "Let's see what info is captured in a specific node"
      ]
    },
    {
      "cell_type": "code",
      "execution_count": 15,
      "metadata": {
        "colab": {
          "base_uri": "https://localhost:8080/"
        },
        "id": "cAh5Q9MrAo7x",
        "outputId": "7a296240-0905-4fa6-8540-234c9492e886"
      },
      "outputs": [
        {
          "name": "stdout",
          "output_type": "stream",
          "text": [
            "\n",
            "--------\n",
            "col_schema: Column: Type\n",
            "Type: string\n",
            "Summary: Type of net income (loss) per share calculation (basic or diluted)\n",
            "\n",
            "Column: Amount\n",
            "Type: string\n",
            "Summary: Net income (loss) per share amount\n",
            "\n",
            "Column: Year 1\n",
            "Type: string\n",
            "Summary: Net income (loss) per share for year 1\n",
            "\n",
            "Column: Year 2\n",
            "Type: string\n",
            "Summary: Net income (loss) per share for year 2\n",
            "\n",
            "Column: Year 3\n",
            "Type: string\n",
            "Summary: Net income (loss) per share for year 3\n",
            "\n",
            "Summary of net income (loss) per share of common stock attributable to common stockholders\n",
            "--------\n",
            "\n",
            "\n",
            "--------\n",
            "Index ID: id_617_table\n",
            "--------\n",
            "\n",
            "\n",
            "--------\n",
            "                                                                                                                                                                                                                                             \n",
            "0                                                                                                                       Year Ended December 31,                                                                                              \n",
            "1                                                                                                                                          2021                      2020                      2019                                          \n",
            "2                                                    Revenues                                                                                                                                                                                \n",
            "3                                            Automotive sales                                                                                 $    44,125                    $    24,604                     $    19,358                     \n",
            "4                               Automotive regulatory credits                                                                                       1,465                          1,580                             594                     \n",
            "5                                          Automotive leasing                                                                                       1,642                          1,052                             869                     \n",
            "6                                   Total automotive revenues                                                                                      47,232                         27,236                          20,821                     \n",
            "7                               Energy generation and storage                                                                                       2,789                          1,994                           1,531                     \n",
            "8                                          Services and other                                                                                       3,802                          2,306                           2,226                     \n",
            "9                                              Total revenues                                                                                      53,823                         31,536                          24,578                     \n",
            "10                                           Cost of revenues                                                                                                                                                                                \n",
            "11                                           Automotive sales                                                                                      32,415                         19,696                          15,939                     \n",
            "12                                         Automotive leasing                                                                                         978                            563                             459                     \n",
            "13                          Total automotive cost of revenues                                                                                      33,393                         20,259                          16,398                     \n",
            "14                              Energy generation and storage                                                                                       2,918                          1,976                           1,341                     \n",
            "15                                         Services and other                                                                                       3,906                          2,671                           2,770                     \n",
            "16                                     Total cost of revenues                                                                                      40,217                         24,906                          20,509                     \n",
            "17                                               Gross profit                                                                                      13,606                          6,630                           4,069                     \n",
            "18                                         Operating expenses                                                                                                                                                                                \n",
            "19                                   Research and development                                                                                       2,593                          1,491                           1,343                     \n",
            "20                        Selling, general and administrative                                                                                       4,517                          3,145                           2,646                     \n",
            "21                                    Restructuring and other                                                                                           (   27    )                         —                              149               \n",
            "22                                   Total operating expenses                                                                                       7,083                          4,636                           4,138                     \n",
            "23                              Income (loss) from operations                                                                                       6,523                          1,994                               (    69       )       \n",
            "24                                            Interest income                                                                                          56                             30                              44                     \n",
            "25                                           Interest expense                                                                                           (  371    )                         (   748     )                       (  685    )  \n",
            "26                                Other income (expense), net                                                                                         135                              (  122        )                      45               \n",
            "27                          Income (loss) before income taxes                                                                                       6,343                          1,154                               (   665       )       \n",
            "28                                 Provision for income taxes                                                                                         699                            292                             110                     \n",
            "29                                          Net income (loss)                                                                                       5,644                            862                               (   775       )       \n",
            "30    Net income attributable to noncontrolling interests and  redeemable noncontrolling interests in subsidiaries                                         125                            141                               87               \n",
            "31      Net income (loss) attributable to common stockholders                                                                                 $     5,519                    $       721                     $         (   862       )       \n",
            "32                                                                                                                                                                                                                                           \n",
            "33                Net income (loss) per share of common stock                  attributable to common stockholders                                                                                                                           \n",
            "34                                                      Basic                                                                                 $      5.60                    $      0.74                     $         (  0.98       )       \n",
            "35                                                    Diluted                                                                                 $      4.90                    $      0.64                     $         (  0.98       )       \n",
            "36              Weighted average shares used in computing net              income (loss) per share of common stock                                                                                                                           \n",
            "37                                                      Basic                                                                                         986                            933                             887                     \n",
            "38                                                    Diluted                                                                                       1,129                          1,083                             887                     \n",
            "--------\n",
            "\n"
          ]
        }
      ],
      "source": [
        "from llama_index.schema import IndexNode\n",
        "\n",
        "example_index_node = [b for b in base_nodes_2021 if isinstance(b, IndexNode)][20]\n",
        "\n",
        "# Index Node\n",
        "print(\n",
        "      f\"\\n--------\\n{example_index_node.get_content(metadata_mode='all')}\\n--------\\n\"\n",
        "     )\n",
        "\n",
        "# Index Node ID\n",
        "print(f\"\\n--------\\nIndex ID: {example_index_node.index_id}\\n--------\\n\")\n",
        "\n",
        "# Referenced Table\n",
        "print(\n",
        "      f\"\\n--------\\n{node_mappings_2021[example_index_node.index_id].get_content()}\\n--------\\n\"\n",
        "    )"
      ]
    },
    {
      "cell_type": "markdown",
      "metadata": {
        "id": "jiEXTOJJArVZ"
      },
      "source": [
        "### Build Recursive Retriever"
      ]
    },
    {
      "cell_type": "code",
      "execution_count": 16,
      "metadata": {
        "id": "HoqKWlF2Asrk"
      },
      "outputs": [],
      "source": [
        "from llama_index.query_engine import RetrieverQueryEngine\n",
        "from llama_index import VectorStoreIndex, ServiceContext\n",
        "from llama_index.llms import OpenAI"
      ]
    },
    {
      "cell_type": "code",
      "execution_count": 17,
      "metadata": {
        "id": "H3SIcz3HDK3V"
      },
      "outputs": [],
      "source": [
        "llm = OpenAI(model=\"gpt-4-1106-preview\")\n",
        "service_context = ServiceContext.from_defaults(llm=llm)"
      ]
    },
    {
      "cell_type": "markdown",
      "metadata": {},
      "source": [
        "Build a **baseline retriever** that simply does a top-k lookup over the raw document. i.e. one-size-fits-all approach irrespective of doc layout"
      ]
    },
    {
      "cell_type": "code",
      "execution_count": 18,
      "metadata": {
        "id": "5WwTWCedAuib"
      },
      "outputs": [],
      "source": [
        "# Construct top-level vector index + query engine\n",
        "vector_index = VectorStoreIndex(base_nodes_2021,  # Note: It's NOT using node_mappings learnt above i.e. It ignores the hierarchy/layout of content\n",
        "                                service_context=service_context)\n",
        "vector_retriever = vector_index.as_retriever(similarity_top_k=1)\n",
        "vector_query_engine = vector_index.as_query_engine(similarity_top_k=1)"
      ]
    },
    {
      "cell_type": "markdown",
      "metadata": {},
      "source": [
        "Build a **retriever which uses the hierarchy (node-mappings)** info learnt above and (hopefully) performs better."
      ]
    },
    {
      "cell_type": "markdown",
      "metadata": {},
      "source": [
        "The top-level vector index does top-k lookup over a set of **Nodes**.\n",
        "\n",
        "A `RecursiveRetriever` object will recursively retrieve/query nodes. We then put this in our `RetrieverQueryEngine` along with a `ResponseSynthesizer` to synthesize a response.\n",
        "\n",
        "We pass in mappings from id to retriever and id to query engine. We then pass in a root id representing the retriever we query first."
      ]
    },
    {
      "cell_type": "code",
      "execution_count": 19,
      "metadata": {
        "id": "_vUeCatwAvZ1"
      },
      "outputs": [],
      "source": [
        "from llama_index.retrievers import RecursiveRetriever\n",
        "\n",
        "recursive_retriever = RecursiveRetriever(\n",
        "                                         \"vector\",\n",
        "                                         retriever_dict={\"vector\": vector_retriever},\n",
        "                                         node_dict=node_mappings_2021,  # use the layout/hierarchy of content\n",
        "                                         verbose=True,\n",
        "                                        )"
      ]
    },
    {
      "cell_type": "code",
      "execution_count": 20,
      "metadata": {
        "id": "Rmq-If9zDqc2"
      },
      "outputs": [],
      "source": [
        "query_engine = RetrieverQueryEngine.from_args(recursive_retriever)"
      ]
    },
    {
      "cell_type": "markdown",
      "metadata": {
        "id": "qurWIG1JAwjK"
      },
      "source": [
        "### Compare response of the (hieararchical node-based) RecursiveRetriever RAG w.r.t. that of the naive RAG"
      ]
    },
    {
      "cell_type": "markdown",
      "metadata": {},
      "source": [
        "Example 1"
      ]
    },
    {
      "cell_type": "code",
      "execution_count": 27,
      "metadata": {
        "colab": {
          "base_uri": "https://localhost:8080/"
        },
        "id": "vGlXZBuDD1w0",
        "outputId": "7a6ecb4e-9233-4366-be91-371c27fa3391"
      },
      "outputs": [
        {
          "name": "stdout",
          "output_type": "stream",
          "text": [
            "\u001b[1;3;34mRetrieving with query id None: What was the Net cash provided by operating activities in 2021?\n",
            "\u001b[0m\u001b[1;3;38;5;200mRetrieved node with id, entering: id_558_table\n",
            "\u001b[0m\u001b[1;3;34mRetrieving with query id id_558_table: What was the Net cash provided by operating activities in 2021?\n",
            "\u001b[0mThe Net cash provided by operating activities in 2021 was $11,497 million.\n"
          ]
        }
      ],
      "source": [
        "# node-based recursive retriever\n",
        "response = query_engine.query(\"What was the Net cash provided by operating activities in 2021?\")\n",
        "print(str(response))"
      ]
    },
    {
      "cell_type": "code",
      "execution_count": 28,
      "metadata": {
        "colab": {
          "base_uri": "https://localhost:8080/"
        },
        "id": "63xeAiR1EZTL",
        "outputId": "0824df9f-2213-4963-9c31-3825b48f310a"
      },
      "outputs": [
        {
          "name": "stdout",
          "output_type": "stream",
          "text": [
            "The summary of net cash flows provided does not include specific figures for the Net cash provided by operating activities in 2021. To answer the query, the actual financial data for the year ended December 31, 2021, would be required.\n"
          ]
        }
      ],
      "source": [
        "# naive RAG retriever\n",
        "response = vector_query_engine.query(\"What was the Net cash provided by operating activities in 2021?\")\n",
        "print(str(response))"
      ]
    },
    {
      "cell_type": "markdown",
      "metadata": {},
      "source": [
        "Example 2"
      ]
    },
    {
      "cell_type": "code",
      "execution_count": 30,
      "metadata": {
        "colab": {
          "base_uri": "https://localhost:8080/"
        },
        "id": "gYEvIFPMFIY6",
        "outputId": "a86ff1f7-7403-4a54-8c7e-8b9f82aa5150"
      },
      "outputs": [
        {
          "name": "stdout",
          "output_type": "stream",
          "text": [
            "\u001b[1;3;34mRetrieving with query id None: What is the difference in total lease expense between the years 2020 and 2021?\n",
            "\u001b[0m\u001b[1;3;38;5;200mRetrieved node with id, entering: id_1392_table\n",
            "\u001b[0m\u001b[1;3;34mRetrieving with query id id_1392_table: What is the difference in total lease expense between the years 2020 and 2021?\n",
            "\u001b[0m"
          ]
        },
        {
          "data": {
            "text/plain": [
              "Response(response='The difference in total lease expense between the years 2020 and 2021 is $232.', source_nodes=[NodeWithScore(node=TextNode(id_='id_1392_table', embedding=None, metadata={}, excluded_embed_metadata_keys=[], excluded_llm_metadata_keys=[], relationships={}, hash='41763380abca0099d6ea17975cca278875a745650d63677ada360350ca5d54f0', text='                                                                                                                                 \\n0                                          Year Ended December 31,                                                               \\n1                                                             2021                 2020                2019                      \\n2          Operating lease expense:                                                                                              \\n3       Operating lease expense (1)                              $      627                $    451                $    426      \\n4                                                                                                                                \\n5            Finance lease expense:                                                                                              \\n6     Amortization of leased assets                              $      415                $    348                $    299      \\n7     Interest on lease liabilities                                      89                     100                     104      \\n8       Total finance lease expense                              $      504                $    448                $    403      \\n9                                                                                                                                \\n10              Total lease expense                              $    1,131                $    899                $    829      ', start_char_idx=None, end_char_idx=None, text_template='{metadata_str}\\n\\n{content}', metadata_template='{key}: {value}', metadata_seperator='\\n'), score=0.8827201396419653)], metadata={'id_1392_table': {}})"
            ]
          },
          "execution_count": 30,
          "metadata": {},
          "output_type": "execute_result"
        }
      ],
      "source": [
        "# node-based recursive retriever\n",
        "query_engine.query(\"What is the difference in total lease expense between the years 2020 and 2021?\")"
      ]
    },
    {
      "cell_type": "code",
      "execution_count": 31,
      "metadata": {
        "colab": {
          "base_uri": "https://localhost:8080/"
        },
        "id": "ib73Q6ATGbCf",
        "outputId": "17245421-1f8f-4de4-dfe0-18b65ec48882"
      },
      "outputs": [
        {
          "data": {
            "text/plain": [
              "Response(response='The specific difference in total lease expense between the years 2020 and 2021 is not provided in the context information. To determine the difference, the actual total lease expense amounts for each year would be required.', source_nodes=[NodeWithScore(node=IndexNode(id_='id_1392_table_ref', embedding=None, metadata={'col_schema': 'Column: Operating lease expense (1)\\nType: Currency\\nSummary: Operating lease expenses\\n\\nColumn: Amortization of leased assets\\nType: Currency\\nSummary: Amortization of leased assets for finance leases\\n\\nColumn: Interest on lease liabilities\\nType: Currency\\nSummary: Interest expenses on lease liabilities for finance leases\\n\\nColumn: Total finance lease expense\\nType: Currency\\nSummary: Total expense for finance leases\\n\\nColumn: Total lease expense\\nType: Currency\\nSummary: Total lease expenses'}, excluded_embed_metadata_keys=['col_schema'], excluded_llm_metadata_keys=[], relationships={}, hash='cfc090358cca853a84c36579069557573de47f1767e5116498ff576b6453843a', text='Summary of lease expenses for the years ended December 31, 2021, 2020, and 2019', start_char_idx=None, end_char_idx=None, text_template='{metadata_str}\\n\\n{content}', metadata_template='{key}: {value}', metadata_seperator='\\n', index_id='id_1392_table'), score=0.8827201396419653)], metadata={'id_1392_table_ref': {'col_schema': 'Column: Operating lease expense (1)\\nType: Currency\\nSummary: Operating lease expenses\\n\\nColumn: Amortization of leased assets\\nType: Currency\\nSummary: Amortization of leased assets for finance leases\\n\\nColumn: Interest on lease liabilities\\nType: Currency\\nSummary: Interest expenses on lease liabilities for finance leases\\n\\nColumn: Total finance lease expense\\nType: Currency\\nSummary: Total expense for finance leases\\n\\nColumn: Total lease expense\\nType: Currency\\nSummary: Total lease expenses'}})"
            ]
          },
          "execution_count": 31,
          "metadata": {},
          "output_type": "execute_result"
        }
      ],
      "source": [
        "# naive RAG retriever\n",
        "vector_query_engine.query(\"What is the difference in total lease expense between the years 2020 and 2021?\")"
      ]
    },
    {
      "cell_type": "markdown",
      "metadata": {},
      "source": [
        "Example 3"
      ]
    },
    {
      "cell_type": "code",
      "execution_count": 40,
      "metadata": {
        "colab": {
          "base_uri": "https://localhost:8080/"
        },
        "id": "sniPgtTQG-of",
        "outputId": "2193efd9-a007-4cc8-d2d0-6d670564c32d"
      },
      "outputs": [
        {
          "name": "stdout",
          "output_type": "stream",
          "text": [
            "\u001b[1;3;34mRetrieving with query id None: What are the total deferred tax taxes in 2020?\n",
            "\u001b[0m\u001b[1;3;38;5;200mRetrieved node with id, entering: id_1564_table\n",
            "\u001b[0m\u001b[1;3;34mRetrieving with query id id_1564_table: What are the total deferred tax taxes in 2020?\n",
            "\u001b[0m"
          ]
        },
        {
          "data": {
            "text/plain": [
              "Response(response='The total deferred tax liabilities in 2020 were $2,102.', source_nodes=[NodeWithScore(node=TextNode(id_='id_1564_table', embedding=None, metadata={}, excluded_embed_metadata_keys=[], excluded_llm_metadata_keys=[], relationships={}, hash='f63deb35a15a6d6606a81bf1f7798bedcc3380e07023c976002ca485769f675c', text='                                                                                                                                                                            \\n0                                                                                   December 31,                             December 31,                                   \\n1                                                                             2021                                     2020                                                 \\n2                                              Deferred tax assets:                                                                                                         \\n3                                 Net operating loss carry-forwards              $                 7,607                                   $       2,172                    \\n4                                  Research and development credits                                  923                                             624                    \\n5                                  Other tax credits and attributes                                  335                                             168                    \\n6                                                  Deferred revenue                                  546                                             450                    \\n7                                   Inventory and warranty reserves                                  377                                             315                    \\n8                                          Stock-based compensation                                  115                                              98                    \\n9                          Operating lease right-of-use liabilities                          430                                              335                           \\n10                                        Deferred GILTI tax assets                          556                                              581                           \\n11                                              Accruals and others                                  191                                             205                    \\n12                                        Total deferred tax assets                               11,080                                           4,948                    \\n13                                              Valuation allowance                                    (  9,074     )                                       (  2,930     )  \\n14                  Deferred tax assets, net of valuation allowance                                2,006                                           2,018                    \\n15                                        Deferred tax liabilities:                                                                                                         \\n16                                    Depreciation and amortization                                    (  1,279     )                                       (  1,488     )  \\n17                            Investment in certain financing funds                            (     209         )                                     (  198         )     \\n18                              Operating lease right-of-use assets                            (     391         )                                     (  305         )     \\n19                                                 Deferred revenue                            (      49         )                                     (   50         )     \\n20                                                            Other                                    (     13     )                                       (     61     )  \\n21                                   Total deferred tax liabilities                                    (  1,941     )                                       (  2,102     )  \\n22    Deferred tax assets (liabilities), net of valuation allowance        $                  65                                        $       (     84           )        ', start_char_idx=None, end_char_idx=None, text_template='{metadata_str}\\n\\n{content}', metadata_template='{key}: {value}', metadata_seperator='\\n'), score=0.8691863213053478)], metadata={'id_1564_table': {}})"
            ]
          },
          "execution_count": 40,
          "metadata": {},
          "output_type": "execute_result"
        }
      ],
      "source": [
        "# node-based recursive retriever\n",
        "query_engine.query(\"What are the total deferred tax taxes in 2020?\")"
      ]
    },
    {
      "cell_type": "code",
      "execution_count": 41,
      "metadata": {
        "colab": {
          "base_uri": "https://localhost:8080/"
        },
        "id": "kCrXWRKnIOeg",
        "outputId": "6f7f9f37-e54e-4bc6-b18f-930a5377afc5"
      },
      "outputs": [
        {
          "data": {
            "text/plain": [
              "Response(response='To calculate the total deferred tax taxes for 2020, you would need to have the specific numeric values for both the deferred tax assets and the deferred tax liabilities for that year. Once you have those values, you would typically subtract the deferred tax liabilities from the deferred tax assets to determine the net deferred tax amount. If the information for 2020 is not provided, it is not possible to calculate the total deferred tax taxes for that year.', source_nodes=[NodeWithScore(node=IndexNode(id_='id_1564_table_ref', embedding=None, metadata={'col_schema': 'Column: Deferred tax assets\\nType: numeric\\nSummary: Amount of deferred tax assets\\n\\nColumn: Deferred tax liabilities\\nType: numeric\\nSummary: Amount of deferred tax liabilities'}, excluded_embed_metadata_keys=['col_schema'], excluded_llm_metadata_keys=[], relationships={}, hash='01b987e84661e7d9dfabeb02b1bdb9be4d134f2e30139a6865cb8290bc75c733', text='Summary of deferred tax assets and liabilities', start_char_idx=None, end_char_idx=None, text_template='{metadata_str}\\n\\n{content}', metadata_template='{key}: {value}', metadata_seperator='\\n', index_id='id_1564_table'), score=0.8691863213053478)], metadata={'id_1564_table_ref': {'col_schema': 'Column: Deferred tax assets\\nType: numeric\\nSummary: Amount of deferred tax assets\\n\\nColumn: Deferred tax liabilities\\nType: numeric\\nSummary: Amount of deferred tax liabilities'}})"
            ]
          },
          "execution_count": 41,
          "metadata": {},
          "output_type": "execute_result"
        }
      ],
      "source": [
        "# naive RAG retriever\n",
        "vector_query_engine.query(\"What are the total deferred tax taxes in 2020?\")"
      ]
    },
    {
      "cell_type": "code",
      "execution_count": null,
      "metadata": {
        "id": "jdQ4lfI8KPop"
      },
      "outputs": [],
      "source": []
    }
  ],
  "metadata": {
    "colab": {
      "provenance": []
    },
    "kernelspec": {
      "display_name": "Python 3",
      "name": "python3"
    },
    "language_info": {
      "name": "python",
      "version": "3.11.2"
    }
  },
  "nbformat": 4,
  "nbformat_minor": 0
}
